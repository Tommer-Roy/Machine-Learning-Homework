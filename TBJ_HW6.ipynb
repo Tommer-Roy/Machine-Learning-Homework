{
  "nbformat": 4,
  "nbformat_minor": 0,
  "metadata": {
    "colab": {
      "name": "TBJ HW6.ipynb",
      "provenance": [],
      "collapsed_sections": [],
      "toc_visible": true
    },
    "kernelspec": {
      "name": "python3",
      "display_name": "Python 3"
    },
    "language_info": {
      "name": "python"
    }
  },
  "cells": [
    {
      "cell_type": "markdown",
      "source": [
        "# OPIM 3511 HW6 - Spring 2022\n",
        "# DUE: 4/25/2022 11:59PM\n",
        "\n",
        "Download your HW as a .ipynb file, then submit it to HuskyCT.\n",
        "\n",
        "When sharing the link, please make sure you change your setting to \"anyone with link can view\".\n",
        "\n",
        "Please also help me to complete the SET survey at https://blueapp.grove.ad.uconn.edu/Blue/ (you will also receive a 1pt extra credit!) Thank you!"
      ],
      "metadata": {
        "id": "iT4nZN6jsGAm"
      }
    },
    {
      "cell_type": "markdown",
      "source": [
        "## Recall breast cancer dataset."
      ],
      "metadata": {
        "id": "yKb8CyLf-uKJ"
      }
    },
    {
      "cell_type": "code",
      "source": [
        "#import all your libraries\n",
        "import pandas as pd\n",
        "import numpy as np\n",
        "import matplotlib.pyplot as plt\n",
        "import seaborn as sns\n",
        "from pylab import *\n",
        "from sklearn.preprocessing import MinMaxScaler\n",
        "from sklearn.model_selection import train_test_split\n",
        "from sklearn.tree import DecisionTreeRegressor\n",
        "from sklearn.metrics import mean_absolute_error\n",
        "from sklearn.metrics import mean_squared_error\n",
        "from sklearn.metrics import r2_score\n",
        "from sklearn.neighbors import KNeighborsClassifier\n",
        "from sklearn.metrics import confusion_matrix\n",
        "from sklearn.metrics import classification_report\n",
        "from sklearn import metrics"
      ],
      "metadata": {
        "id": "FiE9ZI1cwbgN"
      },
      "execution_count": 1,
      "outputs": []
    },
    {
      "cell_type": "code",
      "source": [
        "# https://drive.google.com/file/d/1_aOwBsRfOpkSPp_5Zyi3829d-qZTCqwB/view?usp=sharing\n",
        "\n",
        "# we can actually load this without mounting our google drive!\n",
        "!gdown --id 1_aOwBsRfOpkSPp_5Zyi3829d-qZTCqwB #see the id of file?\n",
        "\n",
        "# click the folder, this has downloaded the file to your local runtime!\n",
        "# no need to mount your drive :)"
      ],
      "metadata": {
        "id": "P_PYWsfCtXfv",
        "colab": {
          "base_uri": "https://localhost:8080/"
        },
        "outputId": "54b936d4-e28c-4548-c211-484c5959e58b"
      },
      "execution_count": 2,
      "outputs": [
        {
          "output_type": "stream",
          "name": "stdout",
          "text": [
            "/usr/local/lib/python3.7/dist-packages/gdown/cli.py:131: FutureWarning: Option `--id` was deprecated in version 4.3.1 and will be removed in 5.0. You don't need to pass it anymore to use a file ID.\n",
            "  category=FutureWarning,\n",
            "Downloading...\n",
            "From: https://drive.google.com/uc?id=1_aOwBsRfOpkSPp_5Zyi3829d-qZTCqwB\n",
            "To: /content/breastcancer.csv\n",
            "100% 125k/125k [00:00<00:00, 65.2MB/s]\n"
          ]
        }
      ]
    },
    {
      "cell_type": "code",
      "source": [
        "# now we can directly import it\n",
        "df = pd.read_csv('breastcancer.csv')"
      ],
      "metadata": {
        "id": "jrKRJ7XCtXln"
      },
      "execution_count": 3,
      "outputs": []
    },
    {
      "cell_type": "markdown",
      "source": [
        "The target variable will be `diagnosis`. Let's drop that last unnamed column while we are here. And since `id` doesn't have predictive power, let's drop that too."
      ],
      "metadata": {
        "id": "WOWJS_8m8_d7"
      }
    },
    {
      "cell_type": "code",
      "source": [
        "# notice how we are dropping these columns INPLACE\n",
        "df.drop('Unnamed: 32', axis=1, inplace=True)\n",
        "df.drop('id', axis=1, inplace=True)"
      ],
      "metadata": {
        "id": "FnVJfesDtXoS"
      },
      "execution_count": 4,
      "outputs": []
    },
    {
      "cell_type": "code",
      "source": [
        "# convert to binary variable - \n",
        "from sklearn.preprocessing import LabelEncoder\n",
        "LE = LabelEncoder()\n",
        "df['diagnosis'] = LE.fit_transform(df['diagnosis'])"
      ],
      "metadata": {
        "id": "SObd9FPhtXtP"
      },
      "execution_count": 5,
      "outputs": []
    },
    {
      "cell_type": "code",
      "source": [
        "df.head()"
      ],
      "metadata": {
        "id": "6fYKzoUUD9ji",
        "colab": {
          "base_uri": "https://localhost:8080/",
          "height": 317
        },
        "outputId": "f0ea120c-cfdc-4a00-8e74-f08df5487f6e"
      },
      "execution_count": 6,
      "outputs": [
        {
          "output_type": "execute_result",
          "data": {
            "text/plain": [
              "   diagnosis  radius_mean  texture_mean  perimeter_mean  area_mean  \\\n",
              "0          1        17.99         10.38          122.80     1001.0   \n",
              "1          1        20.57         17.77          132.90     1326.0   \n",
              "2          1        19.69         21.25          130.00     1203.0   \n",
              "3          1        11.42         20.38           77.58      386.1   \n",
              "4          1        20.29         14.34          135.10     1297.0   \n",
              "\n",
              "   smoothness_mean  compactness_mean  concavity_mean  concave points_mean  \\\n",
              "0          0.11840           0.27760          0.3001              0.14710   \n",
              "1          0.08474           0.07864          0.0869              0.07017   \n",
              "2          0.10960           0.15990          0.1974              0.12790   \n",
              "3          0.14250           0.28390          0.2414              0.10520   \n",
              "4          0.10030           0.13280          0.1980              0.10430   \n",
              "\n",
              "   symmetry_mean  ...  radius_worst  texture_worst  perimeter_worst  \\\n",
              "0         0.2419  ...         25.38          17.33           184.60   \n",
              "1         0.1812  ...         24.99          23.41           158.80   \n",
              "2         0.2069  ...         23.57          25.53           152.50   \n",
              "3         0.2597  ...         14.91          26.50            98.87   \n",
              "4         0.1809  ...         22.54          16.67           152.20   \n",
              "\n",
              "   area_worst  smoothness_worst  compactness_worst  concavity_worst  \\\n",
              "0      2019.0            0.1622             0.6656           0.7119   \n",
              "1      1956.0            0.1238             0.1866           0.2416   \n",
              "2      1709.0            0.1444             0.4245           0.4504   \n",
              "3       567.7            0.2098             0.8663           0.6869   \n",
              "4      1575.0            0.1374             0.2050           0.4000   \n",
              "\n",
              "   concave points_worst  symmetry_worst  fractal_dimension_worst  \n",
              "0                0.2654          0.4601                  0.11890  \n",
              "1                0.1860          0.2750                  0.08902  \n",
              "2                0.2430          0.3613                  0.08758  \n",
              "3                0.2575          0.6638                  0.17300  \n",
              "4                0.1625          0.2364                  0.07678  \n",
              "\n",
              "[5 rows x 31 columns]"
            ],
            "text/html": [
              "\n",
              "  <div id=\"df-f0153106-6fd2-4801-8446-a0d42c97ecc2\">\n",
              "    <div class=\"colab-df-container\">\n",
              "      <div>\n",
              "<style scoped>\n",
              "    .dataframe tbody tr th:only-of-type {\n",
              "        vertical-align: middle;\n",
              "    }\n",
              "\n",
              "    .dataframe tbody tr th {\n",
              "        vertical-align: top;\n",
              "    }\n",
              "\n",
              "    .dataframe thead th {\n",
              "        text-align: right;\n",
              "    }\n",
              "</style>\n",
              "<table border=\"1\" class=\"dataframe\">\n",
              "  <thead>\n",
              "    <tr style=\"text-align: right;\">\n",
              "      <th></th>\n",
              "      <th>diagnosis</th>\n",
              "      <th>radius_mean</th>\n",
              "      <th>texture_mean</th>\n",
              "      <th>perimeter_mean</th>\n",
              "      <th>area_mean</th>\n",
              "      <th>smoothness_mean</th>\n",
              "      <th>compactness_mean</th>\n",
              "      <th>concavity_mean</th>\n",
              "      <th>concave points_mean</th>\n",
              "      <th>symmetry_mean</th>\n",
              "      <th>...</th>\n",
              "      <th>radius_worst</th>\n",
              "      <th>texture_worst</th>\n",
              "      <th>perimeter_worst</th>\n",
              "      <th>area_worst</th>\n",
              "      <th>smoothness_worst</th>\n",
              "      <th>compactness_worst</th>\n",
              "      <th>concavity_worst</th>\n",
              "      <th>concave points_worst</th>\n",
              "      <th>symmetry_worst</th>\n",
              "      <th>fractal_dimension_worst</th>\n",
              "    </tr>\n",
              "  </thead>\n",
              "  <tbody>\n",
              "    <tr>\n",
              "      <th>0</th>\n",
              "      <td>1</td>\n",
              "      <td>17.99</td>\n",
              "      <td>10.38</td>\n",
              "      <td>122.80</td>\n",
              "      <td>1001.0</td>\n",
              "      <td>0.11840</td>\n",
              "      <td>0.27760</td>\n",
              "      <td>0.3001</td>\n",
              "      <td>0.14710</td>\n",
              "      <td>0.2419</td>\n",
              "      <td>...</td>\n",
              "      <td>25.38</td>\n",
              "      <td>17.33</td>\n",
              "      <td>184.60</td>\n",
              "      <td>2019.0</td>\n",
              "      <td>0.1622</td>\n",
              "      <td>0.6656</td>\n",
              "      <td>0.7119</td>\n",
              "      <td>0.2654</td>\n",
              "      <td>0.4601</td>\n",
              "      <td>0.11890</td>\n",
              "    </tr>\n",
              "    <tr>\n",
              "      <th>1</th>\n",
              "      <td>1</td>\n",
              "      <td>20.57</td>\n",
              "      <td>17.77</td>\n",
              "      <td>132.90</td>\n",
              "      <td>1326.0</td>\n",
              "      <td>0.08474</td>\n",
              "      <td>0.07864</td>\n",
              "      <td>0.0869</td>\n",
              "      <td>0.07017</td>\n",
              "      <td>0.1812</td>\n",
              "      <td>...</td>\n",
              "      <td>24.99</td>\n",
              "      <td>23.41</td>\n",
              "      <td>158.80</td>\n",
              "      <td>1956.0</td>\n",
              "      <td>0.1238</td>\n",
              "      <td>0.1866</td>\n",
              "      <td>0.2416</td>\n",
              "      <td>0.1860</td>\n",
              "      <td>0.2750</td>\n",
              "      <td>0.08902</td>\n",
              "    </tr>\n",
              "    <tr>\n",
              "      <th>2</th>\n",
              "      <td>1</td>\n",
              "      <td>19.69</td>\n",
              "      <td>21.25</td>\n",
              "      <td>130.00</td>\n",
              "      <td>1203.0</td>\n",
              "      <td>0.10960</td>\n",
              "      <td>0.15990</td>\n",
              "      <td>0.1974</td>\n",
              "      <td>0.12790</td>\n",
              "      <td>0.2069</td>\n",
              "      <td>...</td>\n",
              "      <td>23.57</td>\n",
              "      <td>25.53</td>\n",
              "      <td>152.50</td>\n",
              "      <td>1709.0</td>\n",
              "      <td>0.1444</td>\n",
              "      <td>0.4245</td>\n",
              "      <td>0.4504</td>\n",
              "      <td>0.2430</td>\n",
              "      <td>0.3613</td>\n",
              "      <td>0.08758</td>\n",
              "    </tr>\n",
              "    <tr>\n",
              "      <th>3</th>\n",
              "      <td>1</td>\n",
              "      <td>11.42</td>\n",
              "      <td>20.38</td>\n",
              "      <td>77.58</td>\n",
              "      <td>386.1</td>\n",
              "      <td>0.14250</td>\n",
              "      <td>0.28390</td>\n",
              "      <td>0.2414</td>\n",
              "      <td>0.10520</td>\n",
              "      <td>0.2597</td>\n",
              "      <td>...</td>\n",
              "      <td>14.91</td>\n",
              "      <td>26.50</td>\n",
              "      <td>98.87</td>\n",
              "      <td>567.7</td>\n",
              "      <td>0.2098</td>\n",
              "      <td>0.8663</td>\n",
              "      <td>0.6869</td>\n",
              "      <td>0.2575</td>\n",
              "      <td>0.6638</td>\n",
              "      <td>0.17300</td>\n",
              "    </tr>\n",
              "    <tr>\n",
              "      <th>4</th>\n",
              "      <td>1</td>\n",
              "      <td>20.29</td>\n",
              "      <td>14.34</td>\n",
              "      <td>135.10</td>\n",
              "      <td>1297.0</td>\n",
              "      <td>0.10030</td>\n",
              "      <td>0.13280</td>\n",
              "      <td>0.1980</td>\n",
              "      <td>0.10430</td>\n",
              "      <td>0.1809</td>\n",
              "      <td>...</td>\n",
              "      <td>22.54</td>\n",
              "      <td>16.67</td>\n",
              "      <td>152.20</td>\n",
              "      <td>1575.0</td>\n",
              "      <td>0.1374</td>\n",
              "      <td>0.2050</td>\n",
              "      <td>0.4000</td>\n",
              "      <td>0.1625</td>\n",
              "      <td>0.2364</td>\n",
              "      <td>0.07678</td>\n",
              "    </tr>\n",
              "  </tbody>\n",
              "</table>\n",
              "<p>5 rows × 31 columns</p>\n",
              "</div>\n",
              "      <button class=\"colab-df-convert\" onclick=\"convertToInteractive('df-f0153106-6fd2-4801-8446-a0d42c97ecc2')\"\n",
              "              title=\"Convert this dataframe to an interactive table.\"\n",
              "              style=\"display:none;\">\n",
              "        \n",
              "  <svg xmlns=\"http://www.w3.org/2000/svg\" height=\"24px\"viewBox=\"0 0 24 24\"\n",
              "       width=\"24px\">\n",
              "    <path d=\"M0 0h24v24H0V0z\" fill=\"none\"/>\n",
              "    <path d=\"M18.56 5.44l.94 2.06.94-2.06 2.06-.94-2.06-.94-.94-2.06-.94 2.06-2.06.94zm-11 1L8.5 8.5l.94-2.06 2.06-.94-2.06-.94L8.5 2.5l-.94 2.06-2.06.94zm10 10l.94 2.06.94-2.06 2.06-.94-2.06-.94-.94-2.06-.94 2.06-2.06.94z\"/><path d=\"M17.41 7.96l-1.37-1.37c-.4-.4-.92-.59-1.43-.59-.52 0-1.04.2-1.43.59L10.3 9.45l-7.72 7.72c-.78.78-.78 2.05 0 2.83L4 21.41c.39.39.9.59 1.41.59.51 0 1.02-.2 1.41-.59l7.78-7.78 2.81-2.81c.8-.78.8-2.07 0-2.86zM5.41 20L4 18.59l7.72-7.72 1.47 1.35L5.41 20z\"/>\n",
              "  </svg>\n",
              "      </button>\n",
              "      \n",
              "  <style>\n",
              "    .colab-df-container {\n",
              "      display:flex;\n",
              "      flex-wrap:wrap;\n",
              "      gap: 12px;\n",
              "    }\n",
              "\n",
              "    .colab-df-convert {\n",
              "      background-color: #E8F0FE;\n",
              "      border: none;\n",
              "      border-radius: 50%;\n",
              "      cursor: pointer;\n",
              "      display: none;\n",
              "      fill: #1967D2;\n",
              "      height: 32px;\n",
              "      padding: 0 0 0 0;\n",
              "      width: 32px;\n",
              "    }\n",
              "\n",
              "    .colab-df-convert:hover {\n",
              "      background-color: #E2EBFA;\n",
              "      box-shadow: 0px 1px 2px rgba(60, 64, 67, 0.3), 0px 1px 3px 1px rgba(60, 64, 67, 0.15);\n",
              "      fill: #174EA6;\n",
              "    }\n",
              "\n",
              "    [theme=dark] .colab-df-convert {\n",
              "      background-color: #3B4455;\n",
              "      fill: #D2E3FC;\n",
              "    }\n",
              "\n",
              "    [theme=dark] .colab-df-convert:hover {\n",
              "      background-color: #434B5C;\n",
              "      box-shadow: 0px 1px 3px 1px rgba(0, 0, 0, 0.15);\n",
              "      filter: drop-shadow(0px 1px 2px rgba(0, 0, 0, 0.3));\n",
              "      fill: #FFFFFF;\n",
              "    }\n",
              "  </style>\n",
              "\n",
              "      <script>\n",
              "        const buttonEl =\n",
              "          document.querySelector('#df-f0153106-6fd2-4801-8446-a0d42c97ecc2 button.colab-df-convert');\n",
              "        buttonEl.style.display =\n",
              "          google.colab.kernel.accessAllowed ? 'block' : 'none';\n",
              "\n",
              "        async function convertToInteractive(key) {\n",
              "          const element = document.querySelector('#df-f0153106-6fd2-4801-8446-a0d42c97ecc2');\n",
              "          const dataTable =\n",
              "            await google.colab.kernel.invokeFunction('convertToInteractive',\n",
              "                                                     [key], {});\n",
              "          if (!dataTable) return;\n",
              "\n",
              "          const docLinkHtml = 'Like what you see? Visit the ' +\n",
              "            '<a target=\"_blank\" href=https://colab.research.google.com/notebooks/data_table.ipynb>data table notebook</a>'\n",
              "            + ' to learn more about interactive tables.';\n",
              "          element.innerHTML = '';\n",
              "          dataTable['output_type'] = 'display_data';\n",
              "          await google.colab.output.renderOutput(dataTable, element);\n",
              "          const docLink = document.createElement('div');\n",
              "          docLink.innerHTML = docLinkHtml;\n",
              "          element.appendChild(docLink);\n",
              "        }\n",
              "      </script>\n",
              "    </div>\n",
              "  </div>\n",
              "  "
            ]
          },
          "metadata": {},
          "execution_count": 6
        }
      ]
    },
    {
      "cell_type": "markdown",
      "source": [
        "## QUESTION A (KNN Classification)\n",
        "\n",
        "Create & evaluate your KNN model for classification. Report the best k (i.e., number of neighbour) value."
      ],
      "metadata": {
        "id": "eGJVxK7XtYG1"
      }
    },
    {
      "cell_type": "code",
      "source": [
        "y = df['diagnosis']\n",
        "X = df.drop(['diagnosis'], axis=1)"
      ],
      "metadata": {
        "id": "F_J9ezsl-rKF"
      },
      "execution_count": 7,
      "outputs": []
    },
    {
      "cell_type": "code",
      "source": [
        "X.shape"
      ],
      "metadata": {
        "id": "_zTUP5DotXwV",
        "colab": {
          "base_uri": "https://localhost:8080/"
        },
        "outputId": "07ae0ae7-07d2-4d6c-9904-8b0c1e9888d0"
      },
      "execution_count": 8,
      "outputs": [
        {
          "output_type": "execute_result",
          "data": {
            "text/plain": [
              "(569, 30)"
            ]
          },
          "metadata": {},
          "execution_count": 8
        }
      ]
    },
    {
      "cell_type": "code",
      "source": [
        "X_train, X_test, y_train, y_test = train_test_split(X, y, test_size = 0.25)"
      ],
      "metadata": {
        "id": "rEMmfO8t_IMU"
      },
      "execution_count": 9,
      "outputs": []
    },
    {
      "cell_type": "code",
      "source": [
        "print(X_train.shape, X_test.shape, y_train.shape, y_test.shape)"
      ],
      "metadata": {
        "id": "cva_5Bdv-EJI",
        "colab": {
          "base_uri": "https://localhost:8080/"
        },
        "outputId": "1410dc01-930c-4bd8-85c3-7d6a09487346"
      },
      "execution_count": 10,
      "outputs": [
        {
          "output_type": "stream",
          "name": "stdout",
          "text": [
            "(426, 30) (143, 30) (426,) (143,)\n"
          ]
        }
      ]
    },
    {
      "cell_type": "code",
      "source": [
        "X_train = np.array(X_train)\n",
        "X_test = np.array(X_test)\n",
        "y_train = np.array(y_train)\n",
        "y_test = np.array(y_test)"
      ],
      "metadata": {
        "id": "mojSvARB-ENJ"
      },
      "execution_count": 11,
      "outputs": []
    },
    {
      "cell_type": "code",
      "source": [
        "scaler = MinMaxScaler()\n",
        "X_train = scaler.fit_transform(X_train)\n",
        "X_test = scaler.transform(X_test)"
      ],
      "metadata": {
        "id": "snVd0gw3kSHV"
      },
      "execution_count": 12,
      "outputs": []
    },
    {
      "cell_type": "code",
      "source": [
        "k_range = range(1,20)\n",
        "accuracy = []\n",
        "\n",
        "for i in k_range:\n",
        "  knn = KNeighborsClassifier(n_neighbors=i)\n",
        "  knn.fit(X_train, y_train)\n",
        "  test_preds = knn.predict(X_test)\n",
        "  accuracy.append(metrics.accuracy_score(y_test, test_preds))"
      ],
      "metadata": {
        "id": "YeV1PXxIkUMN"
      },
      "execution_count": 13,
      "outputs": []
    },
    {
      "cell_type": "code",
      "source": [
        "accuracy"
      ],
      "metadata": {
        "colab": {
          "base_uri": "https://localhost:8080/"
        },
        "id": "s7alw10fkY6N",
        "outputId": "7655c71c-41da-40f3-b918-dff533b559ae"
      },
      "execution_count": 14,
      "outputs": [
        {
          "output_type": "execute_result",
          "data": {
            "text/plain": [
              "[0.9370629370629371,\n",
              " 0.965034965034965,\n",
              " 0.965034965034965,\n",
              " 0.972027972027972,\n",
              " 0.958041958041958,\n",
              " 0.958041958041958,\n",
              " 0.9790209790209791,\n",
              " 0.965034965034965,\n",
              " 0.965034965034965,\n",
              " 0.958041958041958,\n",
              " 0.965034965034965,\n",
              " 0.972027972027972,\n",
              " 0.972027972027972,\n",
              " 0.972027972027972,\n",
              " 0.972027972027972,\n",
              " 0.972027972027972,\n",
              " 0.9790209790209791,\n",
              " 0.9790209790209791,\n",
              " 0.9790209790209791]"
            ]
          },
          "metadata": {},
          "execution_count": 14
        }
      ]
    },
    {
      "cell_type": "code",
      "source": [
        "k_final = 3"
      ],
      "metadata": {
        "id": "A_iRqWUompIu"
      },
      "execution_count": 15,
      "outputs": []
    },
    {
      "cell_type": "code",
      "source": [
        "knn_final = KNeighborsClassifier(n_neighbors=k_final)\n",
        "knn_final.fit(X_train, y_train)\n",
        "test_preds_final = knn_final.predict(X_test)"
      ],
      "metadata": {
        "id": "au9nZSU_mtNB"
      },
      "execution_count": 16,
      "outputs": []
    },
    {
      "cell_type": "code",
      "source": [
        "confusion_matrix(y_test, test_preds_final)"
      ],
      "metadata": {
        "colab": {
          "base_uri": "https://localhost:8080/"
        },
        "id": "GdmNnapYm05y",
        "outputId": "efd47c41-7787-4fe9-909e-b1d475963994"
      },
      "execution_count": 17,
      "outputs": [
        {
          "output_type": "execute_result",
          "data": {
            "text/plain": [
              "array([[88,  1],\n",
              "       [ 4, 50]])"
            ]
          },
          "metadata": {},
          "execution_count": 17
        }
      ]
    },
    {
      "cell_type": "code",
      "source": [
        "print(classification_report(y_test, test_preds_final)) #actual, predict"
      ],
      "metadata": {
        "colab": {
          "base_uri": "https://localhost:8080/"
        },
        "id": "eRhpzFNzm7Lq",
        "outputId": "39e96e8f-029e-43ea-b548-c9d2a043fd3c"
      },
      "execution_count": 18,
      "outputs": [
        {
          "output_type": "stream",
          "name": "stdout",
          "text": [
            "              precision    recall  f1-score   support\n",
            "\n",
            "           0       0.96      0.99      0.97        89\n",
            "           1       0.98      0.93      0.95        54\n",
            "\n",
            "    accuracy                           0.97       143\n",
            "   macro avg       0.97      0.96      0.96       143\n",
            "weighted avg       0.97      0.97      0.96       143\n",
            "\n"
          ]
        }
      ]
    },
    {
      "cell_type": "code",
      "source": [
        "# This model looks good with 97% accuracy"
      ],
      "metadata": {
        "id": "hIVf5n_8UY7n"
      },
      "execution_count": 19,
      "outputs": []
    },
    {
      "cell_type": "markdown",
      "source": [
        "## QUESTION B (SVM)\n",
        "\n",
        "Select 2~3 variables from your X in Question A and perform SVM classification."
      ],
      "metadata": {
        "id": "MDh2sWEw8EGI"
      }
    },
    {
      "cell_type": "code",
      "source": [
        "from sklearn.svm import SVC\n"
      ],
      "metadata": {
        "id": "rwIKYf694POC"
      },
      "execution_count": 20,
      "outputs": []
    },
    {
      "cell_type": "code",
      "source": [
        "svm = SVC(kernel=\"poly\") \n",
        "svm.fit(X_train, y_train)\n",
        "test_preds = svm.predict(X_test)"
      ],
      "metadata": {
        "id": "-AVwlpIy-EPt"
      },
      "execution_count": 22,
      "outputs": []
    },
    {
      "cell_type": "code",
      "source": [
        "# confusion matrix\n",
        "\n",
        "confusion_matrix(y_test, test_preds)"
      ],
      "metadata": {
        "id": "81D6no3N-EYP",
        "colab": {
          "base_uri": "https://localhost:8080/"
        },
        "outputId": "b3496bd1-a838-4a83-995d-cbedca7c0ac0"
      },
      "execution_count": 23,
      "outputs": [
        {
          "output_type": "execute_result",
          "data": {
            "text/plain": [
              "array([[88,  1],\n",
              "       [ 5, 49]])"
            ]
          },
          "metadata": {},
          "execution_count": 23
        }
      ]
    },
    {
      "cell_type": "code",
      "source": [
        "# report\n",
        "print(classification_report(y_test, test_preds)) #actual, predict"
      ],
      "metadata": {
        "id": "-6rdigQD-Eb0",
        "colab": {
          "base_uri": "https://localhost:8080/"
        },
        "outputId": "fa41e2bf-7d17-4289-ad05-340021b50517"
      },
      "execution_count": 24,
      "outputs": [
        {
          "output_type": "stream",
          "name": "stdout",
          "text": [
            "              precision    recall  f1-score   support\n",
            "\n",
            "           0       0.95      0.99      0.97        89\n",
            "           1       0.98      0.91      0.94        54\n",
            "\n",
            "    accuracy                           0.96       143\n",
            "   macro avg       0.96      0.95      0.95       143\n",
            "weighted avg       0.96      0.96      0.96       143\n",
            "\n"
          ]
        }
      ]
    },
    {
      "cell_type": "code",
      "source": [
        "#model is 96% accurate"
      ],
      "metadata": {
        "id": "CpzmbW8l-EiJ"
      },
      "execution_count": 25,
      "outputs": []
    },
    {
      "cell_type": "markdown",
      "source": [
        "## QUESTION C (Kmeans)\n",
        "\n",
        "Use Kmeans to perform clustering on the first two principle components of your X in Question A."
      ],
      "metadata": {
        "id": "LtMQHHyP6gdW"
      }
    },
    {
      "cell_type": "code",
      "source": [
        "from sklearn.cluster import KMeans"
      ],
      "metadata": {
        "id": "83cqg7Q8-FFp"
      },
      "execution_count": 26,
      "outputs": []
    },
    {
      "cell_type": "code",
      "source": [
        "wcss = []\n",
        "\n",
        "for i in range(1,11):\n",
        "  kmeans_cur = KMeans(n_clusters=i, init = 'k-means++')\n",
        "  kmeans_cur.fit(X)\n",
        "  wcss.append(kmeans_cur.inertia_)"
      ],
      "metadata": {
        "id": "SkRLbZ1P-FJB"
      },
      "execution_count": 27,
      "outputs": []
    },
    {
      "cell_type": "code",
      "source": [
        "np.array(wcss).shape"
      ],
      "metadata": {
        "id": "FeYhYfkT-FM_",
        "colab": {
          "base_uri": "https://localhost:8080/"
        },
        "outputId": "6b66d839-02e9-4b36-ea25-035faa7f9493"
      },
      "execution_count": 28,
      "outputs": [
        {
          "output_type": "execute_result",
          "data": {
            "text/plain": [
              "(10,)"
            ]
          },
          "metadata": {},
          "execution_count": 28
        }
      ]
    },
    {
      "cell_type": "code",
      "source": [
        "plt.plot(range(1,11), wcss)"
      ],
      "metadata": {
        "id": "R1zKT_Y6-FRM",
        "colab": {
          "base_uri": "https://localhost:8080/",
          "height": 293
        },
        "outputId": "6c362b30-8b29-4378-f56c-3b356d052821"
      },
      "execution_count": 29,
      "outputs": [
        {
          "output_type": "execute_result",
          "data": {
            "text/plain": [
              "[<matplotlib.lines.Line2D at 0x7fb3910ec210>]"
            ]
          },
          "metadata": {},
          "execution_count": 29
        },
        {
          "output_type": "display_data",
          "data": {
            "text/plain": [
              "<Figure size 432x288 with 1 Axes>"
            ],
            "image/png": "[encoded data removed]"
          },
          "metadata": {
            "needs_background": "light"
          }
        }
      ]
    },
    {
      "cell_type": "code",
      "source": [
        "kmeans_final = KMeans(n_clusters=4, init = 'k-means++')"
      ],
      "metadata": {
        "id": "O61YigJj-FWY"
      },
      "execution_count": 30,
      "outputs": []
    },
    {
      "cell_type": "code",
      "source": [
        "pred_y = kmeans_final.fit_predict(X)"
      ],
      "metadata": {
        "id": "sxL6Cf2IZc2S"
      },
      "execution_count": 31,
      "outputs": []
    },
    {
      "cell_type": "code",
      "source": [
        "pred_y"
      ],
      "metadata": {
        "colab": {
          "base_uri": "https://localhost:8080/"
        },
        "id": "PcC5TcJ3ZeoD",
        "outputId": "7dda347f-3d38-4665-c9be-70df9134a535"
      },
      "execution_count": 32,
      "outputs": [
        {
          "output_type": "execute_result",
          "data": {
            "text/plain": [
              "array([2, 2, 2, 3, 2, 0, 2, 0, 0, 0, 0, 0, 2, 0, 0, 0, 0, 2, 1, 0, 3, 3,\n",
              "       0, 1, 2, 2, 0, 2, 0, 2, 2, 0, 2, 2, 0, 0, 0, 3, 0, 0, 0, 3, 2, 0,\n",
              "       0, 2, 3, 0, 3, 0, 3, 0, 3, 2, 0, 3, 2, 0, 3, 3, 3, 3, 0, 3, 0, 0,\n",
              "       3, 3, 3, 3, 2, 3, 2, 0, 3, 0, 3, 2, 2, 3, 3, 3, 1, 2, 3, 2, 0, 2,\n",
              "       3, 0, 0, 0, 0, 0, 0, 2, 3, 3, 3, 0, 0, 3, 3, 3, 3, 0, 3, 3, 1, 3,\n",
              "       3, 3, 0, 3, 3, 3, 3, 0, 0, 2, 3, 2, 1, 0, 3, 0, 0, 2, 0, 2, 3, 0,\n",
              "       0, 0, 2, 3, 3, 3, 0, 3, 3, 0, 3, 3, 3, 3, 3, 0, 0, 0, 3, 3, 3, 3,\n",
              "       0, 3, 2, 0, 3, 3, 3, 2, 2, 3, 1, 0, 3, 2, 2, 0, 3, 0, 0, 3, 3, 3,\n",
              "       3, 0, 3, 3, 1, 2, 0, 3, 0, 3, 2, 3, 3, 3, 0, 3, 3, 0, 0, 3, 0, 2,\n",
              "       2, 0, 3, 2, 2, 0, 3, 0, 3, 0, 3, 0, 2, 3, 1, 0, 0, 0, 3, 3, 2, 1,\n",
              "       0, 0, 3, 0, 0, 0, 3, 0, 3, 0, 0, 3, 3, 2, 3, 0, 1, 2, 0, 2, 0, 3,\n",
              "       3, 0, 2, 3, 3, 3, 3, 3, 2, 3, 2, 2, 2, 0, 2, 0, 0, 0, 2, 2, 2, 0,\n",
              "       2, 1, 3, 0, 3, 3, 0, 3, 1, 3, 2, 3, 3, 2, 0, 0, 2, 3, 2, 0, 3, 3,\n",
              "       3, 3, 3, 3, 0, 0, 3, 3, 3, 0, 3, 3, 0, 3, 2, 3, 2, 3, 3, 3, 3, 3,\n",
              "       0, 0, 3, 0, 3, 3, 3, 3, 3, 2, 3, 3, 3, 2, 3, 2, 3, 3, 0, 3, 0, 0,\n",
              "       0, 3, 3, 3, 3, 2, 3, 2, 3, 1, 0, 3, 3, 2, 3, 3, 3, 0, 3, 3, 3, 0,\n",
              "       1, 0, 3, 3, 3, 0, 3, 3, 3, 3, 3, 0, 0, 2, 2, 3, 1, 1, 0, 0, 2, 2,\n",
              "       0, 0, 3, 0, 0, 3, 3, 3, 3, 3, 3, 0, 3, 0, 3, 2, 3, 3, 2, 2, 3, 0,\n",
              "       0, 3, 3, 3, 2, 3, 3, 3, 3, 3, 0, 3, 2, 3, 3, 3, 3, 0, 0, 3, 3, 2,\n",
              "       3, 3, 3, 0, 3, 0, 3, 3, 3, 3, 3, 3, 0, 3, 2, 2, 0, 0, 3, 0, 0, 0,\n",
              "       3, 2, 0, 3, 2, 3, 2, 0, 0, 2, 3, 2, 3, 0, 3, 0, 3, 3, 3, 3, 2, 1,\n",
              "       0, 3, 0, 0, 0, 3, 2, 3, 3, 3, 0, 3, 3, 3, 0, 0, 3, 0, 3, 0, 0, 0,\n",
              "       0, 3, 0, 2, 3, 0, 3, 2, 2, 3, 3, 0, 3, 3, 2, 2, 0, 0, 3, 1, 3, 3,\n",
              "       3, 3, 0, 0, 3, 0, 0, 0, 0, 3, 2, 2, 3, 3, 3, 1, 3, 0, 3, 3, 0, 3,\n",
              "       0, 3, 3, 3, 0, 2, 3, 2, 0, 3, 3, 3, 3, 0, 0, 3, 0, 0, 3, 3, 3, 3,\n",
              "       3, 3, 3, 3, 3, 3, 3, 3, 0, 3, 0, 3, 0, 2, 2, 2, 0, 2, 3],\n",
              "      dtype=int32)"
            ]
          },
          "metadata": {},
          "execution_count": 32
        }
      ]
    },
    {
      "cell_type": "code",
      "source": [
        "from sklearn.preprocessing import StandardScaler\n",
        "\n",
        "iris_x_scaled = StandardScaler().fit_transform(X)\n",
        "#must scale my data because PCA is effected by scale"
      ],
      "metadata": {
        "id": "XGW5YPGpZh9W"
      },
      "execution_count": 45,
      "outputs": []
    },
    {
      "cell_type": "code",
      "source": [
        "from sklearn.decomposition import PCA"
      ],
      "metadata": {
        "id": "EeOvr6lVZxzI"
      },
      "execution_count": 35,
      "outputs": []
    },
    {
      "cell_type": "code",
      "source": [
        "pca = PCA(n_components=2)\n",
        "X_pca = pca.fit_transform(iris_x_scaled)"
      ],
      "metadata": {
        "id": "M0xszSOwZz0J"
      },
      "execution_count": 36,
      "outputs": []
    },
    {
      "cell_type": "code",
      "source": [
        "X_pca.shape"
      ],
      "metadata": {
        "colab": {
          "base_uri": "https://localhost:8080/"
        },
        "id": "RVQM2iYtZ1eN",
        "outputId": "b844139e-57d6-41df-e1cf-49e45eba7a14"
      },
      "execution_count": 37,
      "outputs": [
        {
          "output_type": "execute_result",
          "data": {
            "text/plain": [
              "(569, 2)"
            ]
          },
          "metadata": {},
          "execution_count": 37
        }
      ]
    },
    {
      "cell_type": "code",
      "source": [
        "kmeans_pca = KMeans(n_clusters=4, init = 'k-means++')\n",
        "#using n_clusters=4, as beyond an x value of 4 in wcss plot, there is minimal change in y"
      ],
      "metadata": {
        "id": "2FSiVZ-DZ4yL"
      },
      "execution_count": 46,
      "outputs": []
    },
    {
      "cell_type": "code",
      "source": [
        "pred_y_pca = kmeans_pca.fit_predict(X_pca)"
      ],
      "metadata": {
        "id": "yYIF8cn7Z6ww"
      },
      "execution_count": 42,
      "outputs": []
    },
    {
      "cell_type": "code",
      "source": [
        "plt.scatter(X_pca[:,0], X_pca[:,1], c = pred_y_pca)\n",
        "plt.scatter(kmeans_pca.cluster_centers_[:,0], kmeans_pca.cluster_centers_[:,1], s = 100, c='red')"
      ],
      "metadata": {
        "colab": {
          "base_uri": "https://localhost:8080/",
          "height": 282
        },
        "id": "LAyjJvn_Z9kg",
        "outputId": "6225b860-d4aa-4c96-9172-d0a794d52fd5"
      },
      "execution_count": 43,
      "outputs": [
        {
          "output_type": "execute_result",
          "data": {
            "text/plain": [
              "<matplotlib.collections.PathCollection at 0x7fb3908d5350>"
            ]
          },
          "metadata": {},
          "execution_count": 43
        },
        {
          "output_type": "display_data",
          "data": {
            "text/plain": [
              "<Figure size 432x288 with 1 Axes>"
            ],
            "image/png": "[encoded data removed]"
          },
          "metadata": {
            "needs_background": "light"
          }
        }
      ]
    },
    {
      "cell_type": "code",
      "source": [
        "plt.scatter(X_pca[:,0], X_pca[:,1], c = y)\n",
        "plt.scatter(kmeans_pca.cluster_centers_[:,0], kmeans_pca.cluster_centers_[:,1], s = 100, c='red')"
      ],
      "metadata": {
        "colab": {
          "base_uri": "https://localhost:8080/",
          "height": 282
        },
        "id": "D2o8wZnfaDtF",
        "outputId": "674566c1-358d-4a6f-90fc-e39e223972cf"
      },
      "execution_count": 44,
      "outputs": [
        {
          "output_type": "execute_result",
          "data": {
            "text/plain": [
              "<matplotlib.collections.PathCollection at 0x7fb390844a50>"
            ]
          },
          "metadata": {},
          "execution_count": 44
        },
        {
          "output_type": "display_data",
          "data": {
            "text/plain": [
              "<Figure size 432x288 with 1 Axes>"
            ],
            "image/png": "[encoded data removed]"
          },
          "metadata": {
            "needs_background": "light"
          }
        }
      ]
    },
    {
      "cell_type": "markdown",
      "source": [
        "Another reminder here (sorry for being annot:\n",
        "\n",
        "Please help me to complete the SET survey at https://blueapp.grove.ad.uconn.edu/Blue/ (you will also receive a 1pt extra credit!) Thank you!"
      ],
      "metadata": {
        "id": "TcKICk6eVzQU"
      }
    }
  ]
}